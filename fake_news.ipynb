{
  "nbformat": 4,
  "nbformat_minor": 0,
  "metadata": {
    "colab": {
      "provenance": [],
      "include_colab_link": true
    },
    "kernelspec": {
      "name": "python3",
      "display_name": "Python 3"
    },
    "language_info": {
      "name": "python"
    }
  },
  "cells": [
    {
      "cell_type": "markdown",
      "metadata": {
        "id": "view-in-github",
        "colab_type": "text"
      },
      "source": [
        "<a href=\"https://colab.research.google.com/github/abdulahmd/FakeNewsDetector/blob/main/fake_news.ipynb\" target=\"_parent\"><img src=\"https://colab.research.google.com/assets/colab-badge.svg\" alt=\"Open In Colab\"/></a>"
      ]
    },
    {
      "cell_type": "code",
      "source": [
        "# Import necessary libraries\n",
        "from pyspark.sql import SparkSession\n",
        "from pyspark.sql.functions import col, udf\n",
        "from pyspark.sql.types import StringType\n",
        "from pyspark.ml.feature import Tokenizer, StopWordsRemover, HashingTF, IDF\n",
        "from pyspark.ml import Pipeline\n",
        "from pyspark.ml.classification import LogisticRegression\n",
        "from pyspark.ml.evaluation import BinaryClassificationEvaluator\n",
        "import nltk\n",
        "from nltk.corpus import stopwords\n",
        "from nltk.stem.porter import PorterStemmer\n",
        "import re\n",
        "\n",
        "# Initialize SparkSession\n",
        "spark = SparkSession.builder.appName(\"NewsClassification\").getOrCreate()\n",
        "\n",
        "# Load the datasets into Spark DataFrames\n",
        "true_df = spark.read.csv('/content/True.csv', header=True, inferSchema=True)\n",
        "fake_df = spark.read.csv('/content/Fake.csv', header=True, inferSchema=True)\n",
        "\n",
        "# Add label columns\n",
        "true_df = true_df.withColumn('label', lit(1))\n",
        "fake_df = fake_df.withColumn('label', lit(0))\n",
        "\n",
        "# Combine the sub-datasets into one\n",
        "news_df = true_df.union(fake_df)\n",
        "#randomize the news_df then take only the top 200\n",
        "news_df = news_df.orderBy(rand())\n",
        "news_df = news_df.limit(200)\n",
        "\n",
        "# Define a function for text preprocessing using NLTK\n",
        "nltk.download('stopwords')\n",
        "stop_words = set(stopwords.words('english'))\n",
        "ps = PorterStemmer()"
      ],
      "metadata": {
        "id": "FPyfaBDdzV5V",
        "colab": {
          "base_uri": "https://localhost:8080/"
        },
        "outputId": "4020dcef-9da2-498c-c1d4-55398965a0dd"
      },
      "execution_count": null,
      "outputs": [
        {
          "output_type": "stream",
          "name": "stderr",
          "text": [
            "[nltk_data] Downloading package stopwords to /root/nltk_data...\n",
            "[nltk_data]   Package stopwords is already up-to-date!\n"
          ]
        }
      ]
    },
    {
      "cell_type": "code",
      "source": [
        "\n",
        "def preprocess_text(text):\n",
        "    text = re.sub('[^a-zA-Z]', ' ', text)  # Remove non-alphabetic characters\n",
        "    text = text.lower().split()  # Convert to lowercase and split into words\n",
        "    text = [ps.stem(word) for word in text if word not in stop_words]  # Stemming and remove stopwords\n",
        "    return ' '.join(text)"
      ],
      "metadata": {
        "id": "6I4tBySfzV9o"
      },
      "execution_count": null,
      "outputs": []
    },
    {
      "cell_type": "code",
      "source": [
        "# Apply text preprocessing to the 'text' column\n",
        "preprocess_udf = udf(preprocess_text, StringType())\n",
        "news_df = news_df.withColumn('processed_text', preprocess_udf(col('text')))"
      ],
      "metadata": {
        "id": "hk72umtPzV_y"
      },
      "execution_count": null,
      "outputs": []
    },
    {
      "cell_type": "code",
      "source": [
        "# TF-IDF Vectorization using Spark MLlib\n",
        "tokenizer = Tokenizer(inputCol='processed_text', outputCol='words')\n",
        "remover = StopWordsRemover(inputCol='words', outputCol='filtered_words')\n",
        "hashing_tf = HashingTF(inputCol='filtered_words', outputCol='raw_features', numFeatures=5000)\n",
        "idf = IDF(inputCol='raw_features', outputCol='features')\n"
      ],
      "metadata": {
        "id": "mebBU8LnAPPS"
      },
      "execution_count": null,
      "outputs": []
    },
    {
      "cell_type": "code",
      "source": [
        "pipeline = Pipeline(stages=[tokenizer, remover, hashing_tf, idf])\n",
        "pipeline_model = pipeline.fit(news_df)\n",
        "news_df = pipeline_model.transform(news_df)\n",
        "\n",
        "# Select the features and label columns\n",
        "news_df = news_df.select('features', 'label')"
      ],
      "metadata": {
        "id": "h6ajgYslAPRY"
      },
      "execution_count": null,
      "outputs": []
    },
    {
      "cell_type": "code",
      "source": [
        "# Split the dataset into training and test sets\n",
        "train_df, test_df = news_df.randomSplit([0.8, 0.2], seed=0)\n",
        "\n",
        "# Train a logistic regression model\n",
        "lr = LogisticRegression(maxIter=10, regParam=0.3, elasticNetParam=0.8)\n",
        "lr_model = lr.fit(train_df)\n",
        "\n",
        "# Make predictions on the test set\n",
        "predictions = lr_model.transform(test_df)\n",
        "\n",
        "# Evaluate the model using BinaryClassificationEvaluator\n",
        "evaluator = BinaryClassificationEvaluator()\n",
        "accuracy = evaluator.evaluate(predictions)\n",
        "print(f\"Accuracy: {accuracy *100}\")\n",
        "\n",
        "# Optionally, print more evaluation metrics\n",
        "predictions.show()"
      ],
      "metadata": {
        "id": "McjnOvt5APT7",
        "colab": {
          "base_uri": "https://localhost:8080/"
        },
        "outputId": "b748aa66-c821-4893-e317-410a35579222"
      },
      "execution_count": null,
      "outputs": [
        {
          "output_type": "stream",
          "name": "stdout",
          "text": [
            "Accuracy: 93.81868131868131\n",
            "+--------------------+-----+--------------------+--------------------+----------+\n",
            "|            features|label|       rawPrediction|         probability|prediction|\n",
            "+--------------------+-----+--------------------+--------------------+----------+\n",
            "|(5000,[7,19,133,1...|    1|[-0.4549679673310...|[0.38818023861267...|       1.0|\n",
            "|(5000,[7,23,58,64...|    1|[-0.4549679673310...|[0.38818023861267...|       1.0|\n",
            "|(5000,[8,21,47,55...|    0|[0.81282292235937...|[0.69271072549737...|       0.0|\n",
            "|(5000,[8,30,133,1...|    0|[0.81282292235937...|[0.69271072549737...|       0.0|\n",
            "|(5000,[8,55,64,70...|    0|[-1.7227588570215...|[0.15151614665166...|       1.0|\n",
            "|(5000,[14,15,64,1...|    1|[-0.4549679673310...|[0.38818023861267...|       1.0|\n",
            "|(5000,[15,19,47,6...|    1|[-0.4549679673310...|[0.38818023861267...|       1.0|\n",
            "|(5000,[15,23,30,4...|    1|[-1.7227588570215...|[0.15151614665166...|       1.0|\n",
            "|(5000,[15,63,110,...|    1|[-1.7227588570215...|[0.15151614665166...|       1.0|\n",
            "|(5000,[15,128,146...|    0|[0.81282292235937...|[0.69271072549737...|       0.0|\n",
            "|(5000,[19,29,70,1...|    1|[-0.4549679673310...|[0.38818023861267...|       1.0|\n",
            "|(5000,[19,39,88,9...|    0|[0.81282292235937...|[0.69271072549737...|       0.0|\n",
            "|(5000,[19,46,64,1...|    1|[-0.4549679673310...|[0.38818023861267...|       1.0|\n",
            "|(5000,[19,63,70,1...|    1|[-0.4549679673310...|[0.38818023861267...|       1.0|\n",
            "|(5000,[19,98,116,...|    1|[-1.7227588570215...|[0.15151614665166...|       1.0|\n",
            "|(5000,[21,29,122,...|    1|[-1.7227588570215...|[0.15151614665166...|       1.0|\n",
            "|(5000,[23,122,146...|    1|[-0.4549679673310...|[0.38818023861267...|       1.0|\n",
            "|(5000,[24,157,205...|    0|[0.81282292235937...|[0.69271072549737...|       0.0|\n",
            "|(5000,[25,96,144,...|    0|[0.81282292235937...|[0.69271072549737...|       0.0|\n",
            "|(5000,[29,70,89,1...|    1|[-0.4549679673310...|[0.38818023861267...|       1.0|\n",
            "+--------------------+-----+--------------------+--------------------+----------+\n",
            "only showing top 20 rows\n",
            "\n"
          ]
        }
      ]
    },
    {
      "cell_type": "code",
      "source": [],
      "metadata": {
        "id": "W40-PprKCgkY"
      },
      "execution_count": null,
      "outputs": []
    }
  ]
}